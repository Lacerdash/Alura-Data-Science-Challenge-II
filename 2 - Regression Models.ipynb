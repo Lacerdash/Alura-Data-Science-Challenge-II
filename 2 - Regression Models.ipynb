{
 "cells": [
  {
   "cell_type": "markdown",
   "metadata": {},
   "source": [
    "# **Alura Challenge Data Science - Week 2 - Building Regression Models**"
   ]
  },
  {
   "attachments": {},
   "cell_type": "markdown",
   "metadata": {},
   "source": [
    "## **Initializing Spark Session**"
   ]
  },
  {
   "cell_type": "code",
   "execution_count": 33,
   "metadata": {},
   "outputs": [],
   "source": [
    "from pyspark.sql import SparkSession\n",
    "from pyspark.sql import functions as f\n",
    "from pyspark.ml.feature import VectorAssembler"
   ]
  },
  {
   "cell_type": "code",
   "execution_count": 34,
   "metadata": {},
   "outputs": [],
   "source": [
    "spark = SparkSession.builder \\\n",
    "    .master('local[*]') \\\n",
    "    .appName(\"Challenge Data Science 2\") \\\n",
    "    .getOrCreate()"
   ]
  },
  {
   "cell_type": "code",
   "execution_count": 35,
   "metadata": {},
   "outputs": [
    {
     "data": {
      "text/html": [
       "\n",
       "            <div>\n",
       "                <p><b>SparkSession - in-memory</b></p>\n",
       "                \n",
       "        <div>\n",
       "            <p><b>SparkContext</b></p>\n",
       "\n",
       "            <p><a href=\"http://DESKTOP-U80GLQI:4040\">Spark UI</a></p>\n",
       "\n",
       "            <dl>\n",
       "              <dt>Version</dt>\n",
       "                <dd><code>v3.3.1</code></dd>\n",
       "              <dt>Master</dt>\n",
       "                <dd><code>local[*]</code></dd>\n",
       "              <dt>AppName</dt>\n",
       "                <dd><code>Challenge Data Science 2</code></dd>\n",
       "            </dl>\n",
       "        </div>\n",
       "        \n",
       "            </div>\n",
       "        "
      ],
      "text/plain": [
       "<pyspark.sql.session.SparkSession at 0x1f2ded42e50>"
      ]
     },
     "execution_count": 35,
     "metadata": {},
     "output_type": "execute_result"
    }
   ],
   "source": [
    "spark"
   ]
  },
  {
   "attachments": {},
   "cell_type": "markdown",
   "metadata": {},
   "source": [
    "## **Importing Data**\n",
    "\n",
    "The DataFrame we are going to use is the parquet file generated in the first notebook of the challenge. You can check the parquet file [here](https://github.com/Lacerdash/Alura-Data-Science-Challenge-II/blob/main/data/parquet/part-00000-d2c1468d-1dc9-4dc4-9b60-3a7b2ceea125-c000.snappy.parquet)."
   ]
  },
  {
   "cell_type": "code",
   "execution_count": 36,
   "metadata": {},
   "outputs": [],
   "source": [
    "path = 'data/parquet/part-00000-8bc019cf-aa0b-4e9e-98c7-a3ac5f08fe01-c000.snappy.parquet'\n",
    "data = spark.read.parquet(path)"
   ]
  },
  {
   "cell_type": "code",
   "execution_count": 37,
   "metadata": {},
   "outputs": [
    {
     "data": {
      "text/plain": [
       "66348"
      ]
     },
     "execution_count": 37,
     "metadata": {},
     "output_type": "execute_result"
    }
   ],
   "source": [
    "data.count()"
   ]
  },
  {
   "cell_type": "code",
   "execution_count": 38,
   "metadata": {},
   "outputs": [
    {
     "name": "stdout",
     "output_type": "stream",
     "text": [
      "+-----+----------+-----------+-------+--------------------+--------------------+--------+------+-------+-----------+-----------+--------+---------+----------+----------+----+-----+-------+\n",
      "|floor|total_area|useful_area|toilets|            features|                  id|bedrooms|suites|ad_type|  unit_type|   use_type|car_slot| district|      zone|condominio|iptu| type|  value|\n",
      "+-----+----------+-----------+-------+--------------------+--------------------+--------+------+-------+-----------+-----------+--------+---------+----------+----------+----+-----+-------+\n",
      "|    3|      43.0|       43.0|      1|[Academia, Churra...|d2e3a3aa-09b5-45a...|       2|  null|  Usado|Apartamento|Residencial|       1|Paciência|Zona Oeste|     245.0|null|Venda|15000.0|\n",
      "|    2|      42.0|       42.0|      1|[Churrasqueira, P...|085bab2c-87ad-452...|       2|  null|  Usado|Apartamento|Residencial|       1|Paciência|Zona Oeste|       0.0| 0.0|Venda|15000.0|\n",
      "|    1|      41.0|       41.0|      1|[Portaria 24h, Co...|18d22cbe-1b86-476...|       2|  null|  Usado|Apartamento|Residencial|       1|Guaratiba|Zona Oeste|       0.0| 0.0|Venda|20000.0|\n",
      "|    3|      43.0|       43.0|      1|[Churrasqueira, P...|bed8a354-9317-442...|       2|  null|  Usado|Apartamento|Residencial|       0|   Cosmos|Zona Oeste|     285.0|null|Venda|20000.0|\n",
      "|    2|      43.0|       43.0|      1|[Academia, Churra...|12a13315-d67f-48f...|       2|  null|  Usado|Apartamento|Residencial|       1|Guaratiba|Zona Oeste|     245.0|null|Venda|15000.0|\n",
      "+-----+----------+-----------+-------+--------------------+--------------------+--------+------+-------+-----------+-----------+--------+---------+----------+----------+----+-----+-------+\n",
      "only showing top 5 rows\n",
      "\n"
     ]
    }
   ],
   "source": [
    "data.show(5)"
   ]
  },
  {
   "cell_type": "code",
   "execution_count": 39,
   "metadata": {},
   "outputs": [
    {
     "name": "stdout",
     "output_type": "stream",
     "text": [
      "root\n",
      " |-- floor: long (nullable = true)\n",
      " |-- total_area: float (nullable = true)\n",
      " |-- useful_area: float (nullable = true)\n",
      " |-- toilets: long (nullable = true)\n",
      " |-- features: array (nullable = true)\n",
      " |    |-- element: string (containsNull = true)\n",
      " |-- id: string (nullable = true)\n",
      " |-- bedrooms: long (nullable = true)\n",
      " |-- suites: long (nullable = true)\n",
      " |-- ad_type: string (nullable = true)\n",
      " |-- unit_type: string (nullable = true)\n",
      " |-- use_type: string (nullable = true)\n",
      " |-- car_slot: long (nullable = true)\n",
      " |-- district: string (nullable = true)\n",
      " |-- zone: string (nullable = true)\n",
      " |-- condominio: float (nullable = true)\n",
      " |-- iptu: float (nullable = true)\n",
      " |-- type: string (nullable = true)\n",
      " |-- value: float (nullable = true)\n",
      "\n"
     ]
    }
   ],
   "source": [
    "data.printSchema()"
   ]
  },
  {
   "attachments": {},
   "cell_type": "markdown",
   "metadata": {},
   "source": [
    "## **Data Procesing to use Regression Models**\n",
    "\n",
    "Machine Learning models usually do not work correctly with null data. Therefore our DataFrame still needs some changes so we can use the Regression Models.\n",
    "\n",
    "We need to:\n",
    "\n",
    "- Treat null and NaN data\n",
    "- Treat missing data in the features and zone columns\n",
    "- Transforming categorical columns into binary columns (0, 1)\n"
   ]
  },
  {
   "attachments": {},
   "cell_type": "markdown",
   "metadata": {},
   "source": [
    "### **Treating null and NaN data**"
   ]
  },
  {
   "cell_type": "code",
   "execution_count": 40,
   "metadata": {},
   "outputs": [
    {
     "name": "stdout",
     "output_type": "stream",
     "text": [
      "+-----+----------+-----------+-------+---+--------+------+-------+---------+--------+--------+--------+----+----------+----+----+-----+\n",
      "|floor|total_area|useful_area|toilets| id|bedrooms|suites|ad_type|unit_type|use_type|car_slot|district|zone|condominio|iptu|type|value|\n",
      "+-----+----------+-----------+-------+---+--------+------+-------+---------+--------+--------+--------+----+----------+----+----+-----+\n",
      "|    0|      9186|          0|      0|  0|       0|  5544|      0|        0|       0|    3008|       0|   0|      2347|7155|   0|    0|\n",
      "+-----+----------+-----------+-------+---+--------+------+-------+---------+--------+--------+--------+----+----------+----+----+-----+\n",
      "\n"
     ]
    }
   ],
   "source": [
    "# Method to count the quantity of NaN and null values in each column of the DataFrame\n",
    "columns = ['floor', 'total_area', 'useful_area', 'toilets','id','bedrooms','suites','ad_type','unit_type','use_type',\n",
    "    'car_slot','district','zone','condominio','iptu','type','value']\n",
    "\n",
    "data\\\n",
    "    .select([f.count(f.when(f.isnan(c) | f.isnull(c), True)).alias(c) for c in columns])\\\n",
    "    .show()"
   ]
  },
  {
   "cell_type": "code",
   "execution_count": 41,
   "metadata": {},
   "outputs": [],
   "source": [
    "# Filling the NaN and null values with 0\n",
    "data = data\\\n",
    "    .select('*')\\\n",
    "    .na\\\n",
    "    .fill(0)"
   ]
  },
  {
   "cell_type": "code",
   "execution_count": 42,
   "metadata": {},
   "outputs": [
    {
     "name": "stdout",
     "output_type": "stream",
     "text": [
      "+-----+----------+-----------+-------+---+--------+------+-------+---------+--------+--------+--------+----+----------+----+----+-----+\n",
      "|floor|total_area|useful_area|toilets| id|bedrooms|suites|ad_type|unit_type|use_type|car_slot|district|zone|condominio|iptu|type|value|\n",
      "+-----+----------+-----------+-------+---+--------+------+-------+---------+--------+--------+--------+----+----------+----+----+-----+\n",
      "|    0|         0|          0|      0|  0|       0|     0|      0|        0|       0|       0|       0|   0|         0|   0|   0|    0|\n",
      "+-----+----------+-----------+-------+---+--------+------+-------+---------+--------+--------+--------+----+----------+----+----+-----+\n",
      "\n"
     ]
    }
   ],
   "source": [
    "# Checking if it worked\n",
    "data\\\n",
    "    .select([f.count(f.when(f.isnan(c) | f.isnull(c), True)).alias(c) for c in columns])\\\n",
    "    .show()"
   ]
  },
  {
   "attachments": {},
   "cell_type": "markdown",
   "metadata": {},
   "source": [
    "### **Treating missing data in the zone columns**"
   ]
  },
  {
   "attachments": {},
   "cell_type": "markdown",
   "metadata": {},
   "source": [
    "Removing empty values"
   ]
  },
  {
   "cell_type": "code",
   "execution_count": 43,
   "metadata": {},
   "outputs": [
    {
     "name": "stdout",
     "output_type": "stream",
     "text": [
      "+------------+-----+\n",
      "|        zone|count|\n",
      "+------------+-----+\n",
      "|  Zona Oeste|32879|\n",
      "|    Zona Sul|20471|\n",
      "|  Zona Norte|11853|\n",
      "|Zona Central| 1134|\n",
      "|            |   11|\n",
      "+------------+-----+\n",
      "\n"
     ]
    }
   ],
   "source": [
    "data\\\n",
    "    .select('zone')\\\n",
    "    .groupby('zone')\\\n",
    "    .count()\\\n",
    "    .orderBy('count', ascending = False)\\\n",
    "    .show()"
   ]
  },
  {
   "attachments": {},
   "cell_type": "markdown",
   "metadata": {},
   "source": [
    "We are going to remove these 11 rows with empty values in the column zone, since they are irrelevant."
   ]
  },
  {
   "cell_type": "code",
   "execution_count": 44,
   "metadata": {},
   "outputs": [],
   "source": [
    "data = data\\\n",
    "    .where(data['zone'] != '')"
   ]
  },
  {
   "attachments": {},
   "cell_type": "markdown",
   "metadata": {},
   "source": [
    "### **Transforming categorical columns into binary columns (0, 1)**"
   ]
  },
  {
   "cell_type": "code",
   "execution_count": 45,
   "metadata": {},
   "outputs": [
    {
     "name": "stdout",
     "output_type": "stream",
     "text": [
      "+-----+----------+-----------+-------+--------------------+--------------------+--------+------+-------+-----------+-----------+--------+---------+----------+----------+----+-----+-------+\n",
      "|floor|total_area|useful_area|toilets|            features|                  id|bedrooms|suites|ad_type|  unit_type|   use_type|car_slot| district|      zone|condominio|iptu| type|  value|\n",
      "+-----+----------+-----------+-------+--------------------+--------------------+--------+------+-------+-----------+-----------+--------+---------+----------+----------+----+-----+-------+\n",
      "|    3|      43.0|       43.0|      1|[Academia, Churra...|d2e3a3aa-09b5-45a...|       2|     0|  Usado|Apartamento|Residencial|       1|Paciência|Zona Oeste|     245.0| 0.0|Venda|15000.0|\n",
      "|    2|      42.0|       42.0|      1|[Churrasqueira, P...|085bab2c-87ad-452...|       2|     0|  Usado|Apartamento|Residencial|       1|Paciência|Zona Oeste|       0.0| 0.0|Venda|15000.0|\n",
      "|    1|      41.0|       41.0|      1|[Portaria 24h, Co...|18d22cbe-1b86-476...|       2|     0|  Usado|Apartamento|Residencial|       1|Guaratiba|Zona Oeste|       0.0| 0.0|Venda|20000.0|\n",
      "|    3|      43.0|       43.0|      1|[Churrasqueira, P...|bed8a354-9317-442...|       2|     0|  Usado|Apartamento|Residencial|       0|   Cosmos|Zona Oeste|     285.0| 0.0|Venda|20000.0|\n",
      "|    2|      43.0|       43.0|      1|[Academia, Churra...|12a13315-d67f-48f...|       2|     0|  Usado|Apartamento|Residencial|       1|Guaratiba|Zona Oeste|     245.0| 0.0|Venda|15000.0|\n",
      "+-----+----------+-----------+-------+--------------------+--------------------+--------+------+-------+-----------+-----------+--------+---------+----------+----------+----+-----+-------+\n",
      "only showing top 5 rows\n",
      "\n"
     ]
    }
   ],
   "source": [
    "data.show(5)"
   ]
  },
  {
   "attachments": {},
   "cell_type": "markdown",
   "metadata": {},
   "source": [
    "We have filtered the DataFrame in the notebook [1 - Extract, Transfrom and Load](), because of that the columns `ad_type`, `unit_type`, `use_type` and `type` have unique values. \n",
    "\n",
    "Therefore we will not have to tranform these columns into binary, nor we will use it in our model (we will remove them after), since they will not influence our target variable (value).\n",
    "\n",
    "Howerever, there are still two columns we can transform into binary: `features` and `zone`"
   ]
  },
  {
   "attachments": {},
   "cell_type": "markdown",
   "metadata": {},
   "source": [
    "#### *features columns*"
   ]
  },
  {
   "cell_type": "code",
   "execution_count": 46,
   "metadata": {},
   "outputs": [
    {
     "name": "stdout",
     "output_type": "stream",
     "text": [
      "+-----+----------+-----------+-------+--------------------+--------------------+--------+------+-------+-----------+-----------+--------+--------------------+----------+----------+----+-----+-------+\n",
      "|floor|total_area|useful_area|toilets|            features|                  id|bedrooms|suites|ad_type|  unit_type|   use_type|car_slot|            district|      zone|condominio|iptu| type|  value|\n",
      "+-----+----------+-----------+-------+--------------------+--------------------+--------+------+-------+-----------+-----------+--------+--------------------+----------+----------+----+-----+-------+\n",
      "|    3|      43.0|       43.0|      1|[Academia, Churra...|d2e3a3aa-09b5-45a...|       2|     0|  Usado|Apartamento|Residencial|       1|           Paciência|Zona Oeste|     245.0| 0.0|Venda|15000.0|\n",
      "|    2|      42.0|       42.0|      1|[Churrasqueira, P...|085bab2c-87ad-452...|       2|     0|  Usado|Apartamento|Residencial|       1|           Paciência|Zona Oeste|       0.0| 0.0|Venda|15000.0|\n",
      "|    1|      41.0|       41.0|      1|[Portaria 24h, Co...|18d22cbe-1b86-476...|       2|     0|  Usado|Apartamento|Residencial|       1|           Guaratiba|Zona Oeste|       0.0| 0.0|Venda|20000.0|\n",
      "|    3|      43.0|       43.0|      1|[Churrasqueira, P...|bed8a354-9317-442...|       2|     0|  Usado|Apartamento|Residencial|       0|              Cosmos|Zona Oeste|     285.0| 0.0|Venda|20000.0|\n",
      "|    2|      43.0|       43.0|      1|[Academia, Churra...|12a13315-d67f-48f...|       2|     0|  Usado|Apartamento|Residencial|       1|           Guaratiba|Zona Oeste|     245.0| 0.0|Venda|15000.0|\n",
      "|    3|      43.0|       43.0|      1|[Churrasqueira, P...|a2e6d7a5-0ff0-484...|       2|     0|  Usado|Apartamento|Residencial|       0|              Cosmos|Zona Oeste|     285.0| 0.0|Venda|20000.0|\n",
      "|    3|      43.0|       43.0|      1|[Churrasqueira, P...|a6e3173b-c950-4db...|       2|     0|  Usado|Apartamento|Residencial|       1|           Paciência|Zona Oeste|     250.0| 0.0|Venda|15000.0|\n",
      "|    3|      43.0|       43.0|      1|[Churrasqueira, P...|2e6e5dfb-206c-496...|       2|     0|  Usado|Apartamento|Residencial|       1|           Guaratiba|Zona Oeste|     245.0| 0.0|Venda|15000.0|\n",
      "|    3|      43.0|       43.0|      1|[Churrasqueira, P...|99f8d0f9-95a4-461...|       2|     0|  Usado|Apartamento|Residencial|       1|           Paciência|Zona Oeste|     245.0| 0.0|Venda|15000.0|\n",
      "|    4|      43.0|       43.0|      1|[Churrasqueira, P...|b3f44c1a-2d50-4d5...|       2|     0|  Usado|Apartamento|Residencial|       1|           Guaratiba|Zona Oeste|     240.0| 0.0|Venda|17999.0|\n",
      "|    0|      60.0|       60.0|      1|[Condomínio fechado]|dc99d9e1-4c63-41f...|       2|     0|  Usado|Apartamento|Residencial|       1|  Pedra de Guaratiba|Zona Oeste|       0.0| 0.0|Venda|15000.0|\n",
      "|    1|      43.0|       43.0|      1|[Churrasqueira, P...|aa3606d8-8bcd-45e...|       2|     0|  Usado|Apartamento|Residencial|       1|              Cosmos|Zona Oeste|     240.0| 0.0|Venda|19999.0|\n",
      "|    0|      43.0|       43.0|      1|[Churrasqueira, P...|df80b0d5-677c-4be...|       2|     0|  Usado|Apartamento|Residencial|       0|        Campo Grande|Zona Oeste|     245.0| 0.0|Venda|19999.0|\n",
      "|    2|      43.0|       43.0|      1|[Academia, Churra...|3d6c0218-9b7d-474...|       2|     0|  Usado|Apartamento|Residencial|       2|          Santa Cruz|Zona Oeste|     290.0| 0.0|Venda|25000.0|\n",
      "|    3|      43.0|       43.0|      1|[Salão de festas,...|304266cc-62d1-4ce...|       2|     0|  Usado|Apartamento|Residencial|       0|           Guaratiba|Zona Oeste|     285.0| 0.0|Venda|29999.0|\n",
      "|    4|      55.0|       55.0|      2|[Academia, Churra...|111472a2-afa1-4a7...|       2|     1|  Usado|Apartamento|Residencial|       1|Recreio dos Bande...|Zona Oeste|       0.0| 0.0|Venda|30000.0|\n",
      "|    0|      45.0|       45.0|      1|[Playground, Pisc...|275c1589-6537-4bf...|       2|     0|  Usado|Apartamento|Residencial|       1|              Cosmos|Zona Oeste|       0.0| 0.0|Venda|30000.0|\n",
      "|    5|      42.0|       42.0|      1|[Condomínio fecha...|ab8f367f-7509-45c...|       2|     0|  Usado|Apartamento|Residencial|       0|            Realengo|Zona Oeste|     280.0| 0.0|Venda|25000.0|\n",
      "|    1|      43.0|       43.0|      1|[Churrasqueira, P...|e0a3d370-66dd-4f5...|       2|     0|  Usado|Apartamento|Residencial|       1|              Cosmos|Zona Oeste|     280.0| 0.0|Venda|27999.0|\n",
      "|    3|       0.0|       55.0|      1|[Academia, Churra...|09c8ba2d-dbf1-487...|       2|     1|  Usado|Apartamento|Residencial|       1|     Todos os Santos|Zona Norte|       0.0| 0.0|Venda|26000.0|\n",
      "+-----+----------+-----------+-------+--------------------+--------------------+--------+------+-------+-----------+-----------+--------+--------------------+----------+----------+----+-----+-------+\n",
      "only showing top 20 rows\n",
      "\n"
     ]
    }
   ],
   "source": [
    "data.show()"
   ]
  },
  {
   "cell_type": "code",
   "execution_count": 47,
   "metadata": {},
   "outputs": [],
   "source": [
    "# Source: https://stackoverflow.com/questions/48767861/multilabelbinarizer-in-spark\n",
    "\n",
    "labels_set = data\\\n",
    "        .withColumn('exploded', f.explode('features'))\\\n",
    "        .agg(f.collect_set('exploded'))\\\n",
    "        .collect()[0][0]\n",
    "labels_set = sorted(labels_set) # Getting the unique values inside the features column\n",
    "\n",
    "for i in labels_set: # Creating a column for each unique feature if a \"when\" clause to assign 1 when the array of that row contains the unique values from \"labels_set\"\n",
    "        data = data.withColumn(i, f.when(f.array_contains('features', i), 1).otherwise(0)) \n",
    "\n",
    "binary_data = data.drop('features') # Dropping features columns"
   ]
  },
  {
   "cell_type": "code",
   "execution_count": 48,
   "metadata": {},
   "outputs": [
    {
     "name": "stdout",
     "output_type": "stream",
     "text": [
      "+-----+----------+-----------+-------+--------------------+--------+------+-------+-----------+-----------+--------+---------+----------+----------+----+-----+-------+--------+------------------+-------------+------------------+--------+-------+----------+------------+-----------------+---------------+\n",
      "|floor|total_area|useful_area|toilets|                  id|bedrooms|suites|ad_type|  unit_type|   use_type|car_slot| district|      zone|condominio|iptu| type|  value|Academia|Animais permitidos|Churrasqueira|Condomínio fechado|Elevador|Piscina|Playground|Portaria 24h|Portão eletrônico|Salão de festas|\n",
      "+-----+----------+-----------+-------+--------------------+--------+------+-------+-----------+-----------+--------+---------+----------+----------+----+-----+-------+--------+------------------+-------------+------------------+--------+-------+----------+------------+-----------------+---------------+\n",
      "|    3|      43.0|       43.0|      1|d2e3a3aa-09b5-45a...|       2|     0|  Usado|Apartamento|Residencial|       1|Paciência|Zona Oeste|     245.0| 0.0|Venda|15000.0|       1|                 1|            1|                 1|       0|      0|         1|           1|                1|              1|\n",
      "|    2|      42.0|       42.0|      1|085bab2c-87ad-452...|       2|     0|  Usado|Apartamento|Residencial|       1|Paciência|Zona Oeste|       0.0| 0.0|Venda|15000.0|       0|                 1|            1|                 1|       0|      0|         1|           1|                1|              1|\n",
      "+-----+----------+-----------+-------+--------------------+--------+------+-------+-----------+-----------+--------+---------+----------+----------+----+-----+-------+--------+------------------+-------------+------------------+--------+-------+----------+------------+-----------------+---------------+\n",
      "only showing top 2 rows\n",
      "\n"
     ]
    }
   ],
   "source": [
    "binary_data.show(2)"
   ]
  },
  {
   "cell_type": "code",
   "execution_count": 49,
   "metadata": {},
   "outputs": [],
   "source": [
    "features_new_columns_translation = { \n",
    " 'Academia' : 'gym',\n",
    " 'Animais permitidos' : 'animals_allowed',\n",
    " 'Churrasqueira': 'barbecue_grill',\n",
    " 'Condomínio fechado' : 'gated_community',\n",
    " 'Elevador' : 'elevator',\n",
    " 'Piscina' : 'pool',\n",
    " 'Playground' : 'playground',\n",
    " 'Portaria 24h' : '24h_Concierge',\n",
    " 'Portão eletrônico' : 'electronic_gate',\n",
    " 'Salão de festas': 'party_room'\n",
    "}"
   ]
  },
  {
   "cell_type": "code",
   "execution_count": 50,
   "metadata": {},
   "outputs": [],
   "source": [
    "# Changing columns names\n",
    "for key, value in features_new_columns_translation.items():\n",
    "    binary_data = binary_data.withColumnRenamed(key, value)"
   ]
  },
  {
   "cell_type": "code",
   "execution_count": 51,
   "metadata": {},
   "outputs": [
    {
     "name": "stdout",
     "output_type": "stream",
     "text": [
      "+-----+----------+-----------+-------+--------------------+--------+------+-------+-----------+-----------+--------+---------+----------+----------+----+-----+-------+---+---------------+--------------+---------------+--------+----+----------+-------------+---------------+----------+\n",
      "|floor|total_area|useful_area|toilets|                  id|bedrooms|suites|ad_type|  unit_type|   use_type|car_slot| district|      zone|condominio|iptu| type|  value|gym|animals_allowed|barbecue_grill|gated_community|elevator|pool|playground|24h_Concierge|electronic_gate|party_room|\n",
      "+-----+----------+-----------+-------+--------------------+--------+------+-------+-----------+-----------+--------+---------+----------+----------+----+-----+-------+---+---------------+--------------+---------------+--------+----+----------+-------------+---------------+----------+\n",
      "|    3|      43.0|       43.0|      1|d2e3a3aa-09b5-45a...|       2|     0|  Usado|Apartamento|Residencial|       1|Paciência|Zona Oeste|     245.0| 0.0|Venda|15000.0|  1|              1|             1|              1|       0|   0|         1|            1|              1|         1|\n",
      "|    2|      42.0|       42.0|      1|085bab2c-87ad-452...|       2|     0|  Usado|Apartamento|Residencial|       1|Paciência|Zona Oeste|       0.0| 0.0|Venda|15000.0|  0|              1|             1|              1|       0|   0|         1|            1|              1|         1|\n",
      "|    1|      41.0|       41.0|      1|18d22cbe-1b86-476...|       2|     0|  Usado|Apartamento|Residencial|       1|Guaratiba|Zona Oeste|       0.0| 0.0|Venda|20000.0|  0|              0|             1|              1|       0|   0|         1|            1|              1|         1|\n",
      "|    3|      43.0|       43.0|      1|bed8a354-9317-442...|       2|     0|  Usado|Apartamento|Residencial|       0|   Cosmos|Zona Oeste|     285.0| 0.0|Venda|20000.0|  0|              1|             1|              1|       0|   1|         1|            1|              1|         1|\n",
      "|    2|      43.0|       43.0|      1|12a13315-d67f-48f...|       2|     0|  Usado|Apartamento|Residencial|       1|Guaratiba|Zona Oeste|     245.0| 0.0|Venda|15000.0|  1|              1|             1|              1|       0|   0|         1|            1|              1|         1|\n",
      "+-----+----------+-----------+-------+--------------------+--------+------+-------+-----------+-----------+--------+---------+----------+----------+----+-----+-------+---+---------------+--------------+---------------+--------+----+----------+-------------+---------------+----------+\n",
      "only showing top 5 rows\n",
      "\n"
     ]
    }
   ],
   "source": [
    "binary_data.show(5)"
   ]
  },
  {
   "attachments": {},
   "cell_type": "markdown",
   "metadata": {},
   "source": [
    "We can see that our code succesfully transformed the features column into binary column. Where each new column created `('gym', 'barbecue_grill', 'animals_allowed', 'gated_community', 'elevator', 'pool',    'playground', '24h_Concierge', 'electronic gate', 'party_room', 'party_room')` represent a feature from the real estate."
   ]
  },
  {
   "cell_type": "code",
   "execution_count": 52,
   "metadata": {},
   "outputs": [
    {
     "data": {
      "text/html": [
       "<style>\n",
       "    .output-plaintext, .output-stream, .output{\n",
       "        white-space: pre !important;\n",
       "        font-family: Monaco; # Any monospaced font should work\n",
       "    }</style>"
      ],
      "text/plain": [
       "<IPython.core.display.HTML object>"
      ]
     },
     "execution_count": 52,
     "metadata": {},
     "output_type": "execute_result"
    }
   ],
   "source": [
    "# Fix the vizualization of SparkDataFrame in VSCODE\n",
    "from IPython.core.display import HTML\n",
    "\n",
    "HTML(\"\"\"<style>\n",
    "    .output-plaintext, .output-stream, .output{\n",
    "        white-space: pre !important;\n",
    "        font-family: Monaco; # Any monospaced font should work\n",
    "    }</style>\"\"\")"
   ]
  },
  {
   "cell_type": "markdown",
   "metadata": {},
   "source": [
    "#### *zone column*"
   ]
  },
  {
   "cell_type": "code",
   "execution_count": 53,
   "metadata": {},
   "outputs": [
    {
     "name": "stdout",
     "output_type": "stream",
     "text": [
      "+------------+-----+\n",
      "|        zone|count|\n",
      "+------------+-----+\n",
      "|  Zona Oeste|32879|\n",
      "|    Zona Sul|20471|\n",
      "|  Zona Norte|11853|\n",
      "|Zona Central| 1134|\n",
      "+------------+-----+\n",
      "\n"
     ]
    }
   ],
   "source": [
    "binary_data\\\n",
    "    .select('zone')\\\n",
    "    .groupby('zone')\\\n",
    "    .count()\\\n",
    "    .orderBy('count', ascending = False)\\\n",
    "    .show()"
   ]
  },
  {
   "cell_type": "code",
   "execution_count": 54,
   "metadata": {},
   "outputs": [],
   "source": [
    "zone = binary_data\\\n",
    "    .groupBy(\"id\")\\\n",
    "    .pivot('zone')\\\n",
    "    .agg(f.lit(1))\\\n",
    "    .na\\\n",
    "    .fill(0)"
   ]
  },
  {
   "cell_type": "code",
   "execution_count": 55,
   "metadata": {},
   "outputs": [
    {
     "name": "stdout",
     "output_type": "stream",
     "text": [
      "+--------------------+------------+----------+----------+--------+\n",
      "|                  id|Zona Central|Zona Norte|Zona Oeste|Zona Sul|\n",
      "+--------------------+------------+----------+----------+--------+\n",
      "|4e47e4d4-3326-4eb...|           0|         0|         0|       1|\n",
      "|02fba6ef-a691-442...|           0|         0|         1|       0|\n",
      "|fc03c1a9-8bbb-41a...|           0|         1|         0|       0|\n",
      "|3dd5d200-0a7f-43d...|           0|         0|         0|       1|\n",
      "|82707939-71bd-40c...|           0|         0|         0|       1|\n",
      "+--------------------+------------+----------+----------+--------+\n",
      "only showing top 5 rows\n",
      "\n"
     ]
    }
   ],
   "source": [
    "zone.show(5)"
   ]
  },
  {
   "cell_type": "code",
   "execution_count": 56,
   "metadata": {},
   "outputs": [],
   "source": [
    "# Making a inner join to join the binary columns generated from the zone column\n",
    "binary_data_1 = binary_data\\\n",
    "    .join(zone, 'id', how='inner')\n",
    "\n",
    "binary_data_1 = binary_data_1.drop('zone') # Dropping the zone column"
   ]
  },
  {
   "cell_type": "code",
   "execution_count": 57,
   "metadata": {},
   "outputs": [],
   "source": [
    "features_new_columns_translation = { \n",
    "'Zona Central' : 'central_zone',\n",
    "'Zona Norte' : 'north_zone',\n",
    "'Zona Oeste' : 'west_zone',\n",
    "'Zona Sul' : 'south_zone'\n",
    "}"
   ]
  },
  {
   "cell_type": "code",
   "execution_count": 58,
   "metadata": {},
   "outputs": [
    {
     "name": "stdout",
     "output_type": "stream",
     "text": [
      "+--------------------+-----+----------+-----------+-------+--------+------+-------+-----------+-----------+--------+-----------+----------+------+-----+---------+---+---------------+--------------+---------------+--------+----+----------+-------------+---------------+----------+------------+----------+---------+----------+\n",
      "|                  id|floor|total_area|useful_area|toilets|bedrooms|suites|ad_type|  unit_type|   use_type|car_slot|   district|condominio|  iptu| type|    value|gym|animals_allowed|barbecue_grill|gated_community|elevator|pool|playground|24h_Concierge|electronic_gate|party_room|central_zone|north_zone|west_zone|south_zone|\n",
      "+--------------------+-----+----------+-----------+-------+--------+------+-------+-----------+-----------+--------+-----------+----------+------+-----+---------+---+---------------+--------------+---------------+--------+----+----------+-------------+---------------+----------+------------+----------+---------+----------+\n",
      "|4e47e4d4-3326-4eb...|    0|      90.0|       90.0|      2|       3|     1|  Usado|Apartamento|Residencial|       0| Copacabana|     950.0|2677.0|Venda| 949020.0|  0|              0|             0|              0|       1|   0|         0|            0|              0|         0|           0|         0|        0|         1|\n",
      "|02fba6ef-a691-442...|    3|      64.0|       64.0|      1|       2|     2|  Usado|Apartamento|Residencial|       1|Jacarepaguá|     784.0|  80.0|Venda| 380000.0|  1|              1|             1|              1|       1|   1|         1|            1|              1|         1|           0|         0|        1|         0|\n",
      "|fc03c1a9-8bbb-41a...|    0|      82.0|       82.0|      2|       3|     1|  Usado|Apartamento|Residencial|       1|     Tijuca|    1515.0| 133.0|Venda| 580000.0|  0|              0|             1|              1|       1|   1|         0|            0|              0|         0|           0|         1|        0|         0|\n",
      "|3dd5d200-0a7f-43d...|    0|     170.0|      170.0|      3|       4|     1|  Usado|Apartamento|Residencial|       1|Cosme Velho|    2250.0|3000.0|Venda|1450000.0|  0|              0|             0|              0|       1|   0|         0|            0|              0|         0|           0|         0|        0|         1|\n",
      "|82707939-71bd-40c...|    0|     525.0|      525.0|      4|       4|     2|  Usado|Apartamento|Residencial|       2|   Flamengo|    5000.0|2100.0|Venda|5199000.0|  0|              0|             0|              0|       0|   0|         0|            0|              0|         0|           0|         0|        0|         1|\n",
      "+--------------------+-----+----------+-----------+-------+--------+------+-------+-----------+-----------+--------+-----------+----------+------+-----+---------+---+---------------+--------------+---------------+--------+----+----------+-------------+---------------+----------+------------+----------+---------+----------+\n",
      "only showing top 5 rows\n",
      "\n"
     ]
    }
   ],
   "source": [
    "# Changing columns names\n",
    "for key, value in features_new_columns_translation.items():\n",
    "    binary_data_1 = binary_data_1.withColumnRenamed(key, value)\n",
    "\n",
    "binary_data_1.show(5)"
   ]
  },
  {
   "attachments": {},
   "cell_type": "markdown",
   "metadata": {},
   "source": [
    "### **Removing useless columns**\n",
    "\n",
    "Columns with unique values ``('id', 'ad_type', 'unit_type', 'use_type', 'type')`` are useless to our model, therefore we will remove them from our DataFrame.\n",
    "\n",
    "We are going to remove the `district` column since it will not be useful to our analysis.\n",
    "\n",
    "And we are also going to remove the `total_are` colum, since it has more null values then the `useful_area` column and both columns have similar data."
   ]
  },
  {
   "cell_type": "code",
   "execution_count": 59,
   "metadata": {},
   "outputs": [
    {
     "name": "stdout",
     "output_type": "stream",
     "text": [
      "+-----+-----------+-------+--------+------+--------+----------+------+---------+---+---------------+--------------+---------------+--------+----+----------+-------------+---------------+----------+------------+----------+---------+----------+\n",
      "|floor|useful_area|toilets|bedrooms|suites|car_slot|condominio|  iptu|    value|gym|animals_allowed|barbecue_grill|gated_community|elevator|pool|playground|24h_Concierge|electronic_gate|party_room|central_zone|north_zone|west_zone|south_zone|\n",
      "+-----+-----------+-------+--------+------+--------+----------+------+---------+---+---------------+--------------+---------------+--------+----+----------+-------------+---------------+----------+------------+----------+---------+----------+\n",
      "|    0|       90.0|      2|       3|     1|       0|     950.0|2677.0| 949020.0|  0|              0|             0|              0|       1|   0|         0|            0|              0|         0|           0|         0|        0|         1|\n",
      "|    3|       64.0|      1|       2|     2|       1|     784.0|  80.0| 380000.0|  1|              1|             1|              1|       1|   1|         1|            1|              1|         1|           0|         0|        1|         0|\n",
      "|    0|       82.0|      2|       3|     1|       1|    1515.0| 133.0| 580000.0|  0|              0|             1|              1|       1|   1|         0|            0|              0|         0|           0|         1|        0|         0|\n",
      "|    0|      170.0|      3|       4|     1|       1|    2250.0|3000.0|1450000.0|  0|              0|             0|              0|       1|   0|         0|            0|              0|         0|           0|         0|        0|         1|\n",
      "|    0|      525.0|      4|       4|     2|       2|    5000.0|2100.0|5199000.0|  0|              0|             0|              0|       0|   0|         0|            0|              0|         0|           0|         0|        0|         1|\n",
      "+-----+-----------+-------+--------+------+--------+----------+------+---------+---+---------------+--------------+---------------+--------+----+----------+-------------+---------------+----------+------------+----------+---------+----------+\n",
      "only showing top 5 rows\n",
      "\n"
     ]
    }
   ],
   "source": [
    "features_selection_DF = binary_data_1.drop('id', 'ad_type', 'unit_type', 'use_type', 'type', 'district', 'total_area')\n",
    "features_selection_DF.show(5)"
   ]
  },
  {
   "attachments": {},
   "cell_type": "markdown",
   "metadata": {},
   "source": [
    "### **Saving the processed DataFrame**\n",
    "\n",
    "In this project, we created an ideal database to use in machine learning models. It is important to export it to be able to use it in other models and to retrain our model, if necessary.\n"
   ]
  },
  {
   "cell_type": "code",
   "execution_count": null,
   "metadata": {},
   "outputs": [],
   "source": [
    "features_selection_DF.write.parquet(\n",
    "    path = 'data/parquet_processed_data',\n",
    "    mode = 'overwrite'\n",
    ")"
   ]
  },
  {
   "attachments": {},
   "cell_type": "markdown",
   "metadata": {},
   "source": [
    "## **Creating Models**"
   ]
  },
  {
   "attachments": {},
   "cell_type": "markdown",
   "metadata": {},
   "source": [
    "### **Vectorizing the data (Vector Assembler)**"
   ]
  },
  {
   "cell_type": "code",
   "execution_count": 61,
   "metadata": {},
   "outputs": [],
   "source": [
    "# Nomenclature that spark expects for the variable that we are going to predict\n",
    "dataset = features_selection_DF.withColumnRenamed('value','label')"
   ]
  },
  {
   "cell_type": "code",
   "execution_count": 62,
   "metadata": {},
   "outputs": [],
   "source": [
    "# delecting the features\n",
    "X = ['floor',\n",
    " 'useful_area',\n",
    " 'toilets',\n",
    " 'bedrooms',\n",
    " 'suites',\n",
    " 'car_slot',\n",
    " 'condominio',\n",
    " 'iptu',\n",
    " 'gym',\n",
    " 'animals_allowed',\n",
    " 'barbecue_grill',\n",
    " 'gated_community',\n",
    " 'elevator',\n",
    " 'pool',\n",
    " 'playground',\n",
    " '24h_Concierge',\n",
    " 'electronic_gate',\n",
    " 'party_room',\n",
    " 'central_zone',\n",
    " 'north_zone',\n",
    " 'west_zone',\n",
    " 'south_zone']"
   ]
  },
  {
   "cell_type": "code",
   "execution_count": 63,
   "metadata": {},
   "outputs": [],
   "source": [
    "assembler = VectorAssembler(inputCols = X, outputCol = 'features')"
   ]
  },
  {
   "cell_type": "code",
   "execution_count": 64,
   "metadata": {},
   "outputs": [],
   "source": [
    "dataset_prep = assembler.transform(dataset).select('features', 'label')"
   ]
  },
  {
   "cell_type": "code",
   "execution_count": 65,
   "metadata": {},
   "outputs": [
    {
     "name": "stdout",
     "output_type": "stream",
     "text": [
      "+----------------------------------------------------------------------------------------------------+---------+\n",
      "|features                                                                                            |label    |\n",
      "+----------------------------------------------------------------------------------------------------+---------+\n",
      "|(22,[1,2,3,4,6,7,12,21],[90.0,2.0,3.0,1.0,950.0,2677.0,1.0,1.0])                                    |949020.0 |\n",
      "|[3.0,64.0,1.0,2.0,2.0,1.0,784.0,80.0,1.0,1.0,1.0,1.0,1.0,1.0,1.0,1.0,1.0,1.0,0.0,0.0,1.0,0.0]       |380000.0 |\n",
      "|(22,[1,2,3,4,5,6,7,10,11,12,13,19],[82.0,2.0,3.0,1.0,1.0,1515.0,133.0,1.0,1.0,1.0,1.0,1.0])         |580000.0 |\n",
      "|(22,[1,2,3,4,5,6,7,12,21],[170.0,3.0,4.0,1.0,1.0,2250.0,3000.0,1.0,1.0])                            |1450000.0|\n",
      "|(22,[1,2,3,4,5,6,7,21],[525.0,4.0,4.0,2.0,2.0,5000.0,2100.0,1.0])                                   |5199000.0|\n",
      "|[0.0,50.0,1.0,2.0,0.0,1.0,320.0,80.0,1.0,1.0,1.0,1.0,1.0,1.0,1.0,1.0,1.0,1.0,1.0,0.0,0.0,0.0]       |330000.0 |\n",
      "|(22,[1,2,3,4,5,6,7,11,15,16,21],[286.0,7.0,7.0,3.0,4.0,2148.0,15000.0,1.0,1.0,1.0,1.0])             |4500000.0|\n",
      "|[0.0,43.0,1.0,2.0,0.0,1.0,285.0,0.0,1.0,1.0,1.0,1.0,0.0,0.0,1.0,1.0,1.0,1.0,0.0,0.0,1.0,0.0]        |22999.0  |\n",
      "|(22,[1,2,3,4,5,6,7,9,10,11,12,16,20],[122.0,1.0,3.0,1.0,2.0,810.0,3000.0,1.0,1.0,1.0,1.0,1.0,1.0])  |895000.0 |\n",
      "|[1234.0,245.0,5.0,4.0,2.0,3.0,3800.0,7900.0,1.0,1.0,1.0,1.0,1.0,1.0,1.0,1.0,1.0,1.0,0.0,0.0,1.0,0.0]|2080000.0|\n",
      "+----------------------------------------------------------------------------------------------------+---------+\n",
      "only showing top 10 rows\n",
      "\n"
     ]
    }
   ],
   "source": [
    "dataset_prep.show(10, truncate = False)"
   ]
  },
  {
   "attachments": {},
   "cell_type": "markdown",
   "metadata": {},
   "source": [
    "### **Plotting the Correlation Matrix**"
   ]
  },
  {
   "cell_type": "code",
   "execution_count": 66,
   "metadata": {},
   "outputs": [],
   "source": [
    "from pyspark.ml.stat import Correlation\n",
    "import pandas as pd\n",
    "import matplotlib.pyplot as plt\n",
    "import seaborn as sns"
   ]
  },
  {
   "cell_type": "code",
   "execution_count": 67,
   "metadata": {},
   "outputs": [],
   "source": [
    "correlacao = Correlation.correlacao = Correlation.corr(dataset_prep, 'features').collect()[0][0]\n",
    "\n",
    "dataframe_correlacao = pd.DataFrame(correlacao.toArray(), columns = X, index = X)"
   ]
  },
  {
   "cell_type": "code",
   "execution_count": 68,
   "metadata": {},
   "outputs": [
    {
     "data": {
      "text/plain": [
       "<AxesSubplot:>"
      ]
     },
     "execution_count": 68,
     "metadata": {},
     "output_type": "execute_result"
    },
    {
     "data": {
      "image/png": "[encoded data removed]",
      "text/plain": [
       "<Figure size 1080x720 with 2 Axes>"
      ]
     },
     "metadata": {
      "needs_background": "light"
     },
     "output_type": "display_data"
    }
   ],
   "source": [
    "plt.figure(figsize=(15, 10))\n",
    "paleta = sns.color_palette('light:salmon', as_cmap=True)\n",
    "sns.heatmap(dataframe_correlacao.round(1), annot=True, cmap=paleta)"
   ]
  },
  {
   "attachments": {},
   "cell_type": "markdown",
   "metadata": {},
   "source": [
    "### **Linear Regression Model**"
   ]
  },
  {
   "attachments": {},
   "cell_type": "markdown",
   "metadata": {},
   "source": [
    "#### *Creating and Training the Model*"
   ]
  },
  {
   "cell_type": "code",
   "execution_count": 71,
   "metadata": {},
   "outputs": [],
   "source": [
    "from pyspark.ml.regression import LinearRegression"
   ]
  },
  {
   "cell_type": "code",
   "execution_count": 70,
   "metadata": {},
   "outputs": [
    {
     "name": "stdout",
     "output_type": "stream",
     "text": [
      "The train dataset has 46319 register, and the test dataset has 20018\n"
     ]
    }
   ],
   "source": [
    "# Divinding the Dataset into train and test (70%, 30%)\n",
    "train, test = dataset_prep.randomSplit([0.7, 0.3], seed=50)\n",
    "\n",
    "print('The train dataset has {} register, and the test dataset has {}'.format(train.count(), test.count()))"
   ]
  },
  {
   "cell_type": "code",
   "execution_count": 76,
   "metadata": {},
   "outputs": [
    {
     "name": "stdout",
     "output_type": "stream",
     "text": [
      "+--------------------+---------+------------------+\n",
      "|            features|    label|        prediction|\n",
      "+--------------------+---------+------------------+\n",
      "|(22,[0,1,2,3,4,5,...|3050000.0| 3646559.581668706|\n",
      "|(22,[0,1,2,3,4,5,...|1600000.0| 2816016.587696718|\n",
      "|(22,[0,1,2,3,4,5,...|4500000.0| 6329347.122669879|\n",
      "|(22,[0,1,2,3,4,5,...|4104228.0|1949955.9439401114|\n",
      "|(22,[0,1,2,3,4,5,...|1390000.0| 2384500.832475532|\n",
      "+--------------------+---------+------------------+\n",
      "only showing top 5 rows\n",
      "\n"
     ]
    }
   ],
   "source": [
    "# Creating the Model\n",
    "lr = LinearRegression()\n",
    "\n",
    "# Training the LinearRegression Model with the train dataset\n",
    "lr_model = lr.fit(train)\n",
    "\n",
    "# Using the trained model to predict the label from the train dataset\n",
    "predictions_lr_train = lr_model.transform(train)\n",
    "\n",
    "predictions_lr_train.show(5)"
   ]
  },
  {
   "attachments": {},
   "cell_type": "markdown",
   "metadata": {},
   "source": [
    "#### *Calculating Metrics to evaluate the model*"
   ]
  },
  {
   "cell_type": "code",
   "execution_count": null,
   "metadata": {},
   "outputs": [],
   "source": [
    "from pyspark.ml.evaluation import RegressionEvaluator"
   ]
  },
  {
   "cell_type": "code",
   "execution_count": null,
   "metadata": {},
   "outputs": [],
   "source": [
    "evaluator = RegressionEvaluator()\n",
    "\n",
    "print(evaluator.evaluate(predictions_lr_train, {evaluator.metricName: \"r2\"}))\n",
    "print(evaluator.evaluate(predictions_lr_train, {evaluator.metricName: \"rmse\"}))"
   ]
  },
  {
   "cell_type": "code",
   "execution_count": 106,
   "metadata": {},
   "outputs": [
    {
     "name": "stdout",
     "output_type": "stream",
     "text": [
      "+--------------------+---------+------------------+\n",
      "|            features|    label|        prediction|\n",
      "+--------------------+---------+------------------+\n",
      "|(22,[0,1,2,3,4,5,...|3390000.0|2740999.7600770565|\n",
      "|(22,[0,1,2,3,4,5,...|1800000.0|2149338.1337927165|\n",
      "|(22,[0,1,2,3,4,5,...| 620000.0|1047282.5821635765|\n",
      "|(22,[0,1,2,3,4,5,...| 960000.0|1433135.7834619465|\n",
      "|(22,[0,1,2,3,4,5,...|1580000.0| 1831077.919211316|\n",
      "+--------------------+---------+------------------+\n",
      "only showing top 5 rows\n",
      "\n"
     ]
    }
   ],
   "source": [
    "# Using the trained model to predict the label for the test dataset\n",
    "predictions_lr_test = lr_model.transform(test)\n",
    "predictions_lr_test.show(5)"
   ]
  },
  {
   "cell_type": "code",
   "execution_count": null,
   "metadata": {},
   "outputs": [],
   "source": [
    "print('Decision Tree Regression')\n",
    "print(\"=\"*30)\n",
    "print(\"Dados de Treino\")\n",
    "print(\"=\"*30)\n",
    "print(\"R²: %f\" % evaluator.evaluate(predictions_lr_train, {evaluator.metricName: \"r2\"}))\n",
    "print(\"RMSE: %f\" % evaluator.evaluate(predictions_lr_train, {evaluator.metricName: \"rmse\"}))\n",
    "print(\"\")\n",
    "print(\"=\"*30)\n",
    "print(\"Dados de Teste\")\n",
    "print(\"=\"*30)\n",
    "print(\"R²: %f\" % evaluator.evaluate(predictions_lr_test, {evaluator.metricName: \"r2\"}))\n",
    "print(\"RMSE: %f\" % evaluator.evaluate(predictions_lr_test, {evaluator.metricName: \"rmse\"}))"
   ]
  },
  {
   "attachments": {},
   "cell_type": "markdown",
   "metadata": {},
   "source": [
    "### **Decision Tree Regressor**"
   ]
  },
  {
   "cell_type": "markdown",
   "metadata": {},
   "source": [
    "#### *Creating and Training the Model*"
   ]
  },
  {
   "cell_type": "code",
   "execution_count": 86,
   "metadata": {},
   "outputs": [],
   "source": [
    "from pyspark.ml.regression import DecisionTreeRegressor"
   ]
  },
  {
   "cell_type": "code",
   "execution_count": 90,
   "metadata": {},
   "outputs": [],
   "source": [
    "dtr = DecisionTreeRegressor(seed=50, maxDepth=7)"
   ]
  },
  {
   "cell_type": "code",
   "execution_count": 107,
   "metadata": {},
   "outputs": [
    {
     "name": "stdout",
     "output_type": "stream",
     "text": [
      "+--------------------+---------+------------------+\n",
      "|            features|    label|        prediction|\n",
      "+--------------------+---------+------------------+\n",
      "|(22,[0,1,2,3,4,5,...|3050000.0|3149319.8434343436|\n",
      "|(22,[0,1,2,3,4,5,...|1600000.0|3149319.8434343436|\n",
      "|(22,[0,1,2,3,4,5,...|4500000.0| 5127119.871428572|\n",
      "|(22,[0,1,2,3,4,5,...|4104228.0| 1596272.153488372|\n",
      "|(22,[0,1,2,3,4,5,...|1390000.0|1596778.2566096424|\n",
      "+--------------------+---------+------------------+\n",
      "only showing top 5 rows\n",
      "\n"
     ]
    }
   ],
   "source": [
    "# Training the LinearRegression Model with the train dataset\n",
    "dtr_model = dtr.fit(train)\n",
    "\n",
    "# Using the trained model to predict the label from the train dataset\n",
    "predictions_dtr_train = dtr_model.transform(train)\n",
    "\n",
    "predictions_dtr_train.show(5)"
   ]
  },
  {
   "cell_type": "markdown",
   "metadata": {},
   "source": [
    "#### *Calculating Metrics to evaluate the model*"
   ]
  },
  {
   "cell_type": "code",
   "execution_count": 110,
   "metadata": {},
   "outputs": [],
   "source": [
    "predictions_dtr_test = dtr_model.transform(test)"
   ]
  },
  {
   "cell_type": "code",
   "execution_count": 111,
   "metadata": {},
   "outputs": [
    {
     "name": "stdout",
     "output_type": "stream",
     "text": [
      "Decision Tree Regression\n",
      "==============================\n",
      "Dados de Treino\n",
      "==============================\n",
      "R²: 0.796553\n",
      "RMSE: 663124.094804\n",
      "\n",
      "==============================\n",
      "Dados de Teste\n",
      "==============================\n",
      "R²: 0.779504\n",
      "RMSE: 689897.819669\n"
     ]
    }
   ],
   "source": [
    "print('Decision Tree Regression')\n",
    "print(\"=\"*30)\n",
    "print(\"Dados de Treino\")\n",
    "print(\"=\"*30)\n",
    "print(\"R²: %f\" % evaluator.evaluate(predictions_dtr_train, {evaluator.metricName: \"r2\"}))\n",
    "print(\"RMSE: %f\" % evaluator.evaluate(predictions_dtr_train, {evaluator.metricName: \"rmse\"}))\n",
    "print(\"\")\n",
    "print(\"=\"*30)\n",
    "print(\"Dados de Teste\")\n",
    "print(\"=\"*30)\n",
    "print(\"R²: %f\" % evaluator.evaluate(predictions_dtr_test, {evaluator.metricName: \"r2\"}))\n",
    "print(\"RMSE: %f\" % evaluator.evaluate(predictions_dtr_test, {evaluator.metricName: \"rmse\"}))"
   ]
  },
  {
   "attachments": {},
   "cell_type": "markdown",
   "metadata": {},
   "source": [
    "### **Random Forest Regressor**"
   ]
  },
  {
   "cell_type": "markdown",
   "metadata": {},
   "source": [
    "#### *Creating and Training the Model*"
   ]
  },
  {
   "cell_type": "code",
   "execution_count": 112,
   "metadata": {},
   "outputs": [],
   "source": [
    "from pyspark.ml.regression import RandomForestRegressor"
   ]
  },
  {
   "cell_type": "code",
   "execution_count": 113,
   "metadata": {},
   "outputs": [],
   "source": [
    "# Creating the Model\n",
    "rfr = RandomForestRegressor(seed=101, maxDepth=7, numTrees=10)"
   ]
  },
  {
   "cell_type": "code",
   "execution_count": 116,
   "metadata": {},
   "outputs": [
    {
     "name": "stdout",
     "output_type": "stream",
     "text": [
      "+--------------------+---------+------------------+\n",
      "|            features|    label|        prediction|\n",
      "+--------------------+---------+------------------+\n",
      "|(22,[0,1,2,3,4,5,...|3050000.0|3565326.6379570276|\n",
      "|(22,[0,1,2,3,4,5,...|1600000.0|2288281.3117709314|\n",
      "|(22,[0,1,2,3,4,5,...|4500000.0|3926474.1113734944|\n",
      "|(22,[0,1,2,3,4,5,...|4104228.0|1712020.1159266657|\n",
      "|(22,[0,1,2,3,4,5,...|1390000.0|1525884.3787311842|\n",
      "+--------------------+---------+------------------+\n",
      "only showing top 5 rows\n",
      "\n"
     ]
    }
   ],
   "source": [
    "# Training the Random Forest Model with the train dataset\n",
    "rfr_model = rfr.fit(train)\n",
    "\n",
    "# Using the trained model to predict the label from the train dataset\n",
    "predictions_rfr_train = rfr_model.transform(train)\n",
    "\n",
    "predictions_rfr_train.show(5)"
   ]
  },
  {
   "cell_type": "markdown",
   "metadata": {},
   "source": [
    "#### *Calculating Metrics to evaluate the model*"
   ]
  },
  {
   "cell_type": "code",
   "execution_count": 118,
   "metadata": {},
   "outputs": [
    {
     "name": "stdout",
     "output_type": "stream",
     "text": [
      "+--------------------+---------+------------------+\n",
      "|            features|    label|        prediction|\n",
      "+--------------------+---------+------------------+\n",
      "|(22,[0,1,2,3,4,5,...|3390000.0|  3613186.56840553|\n",
      "|(22,[0,1,2,3,4,5,...|1800000.0|1940245.9337270013|\n",
      "|(22,[0,1,2,3,4,5,...| 620000.0| 945825.0851554855|\n",
      "|(22,[0,1,2,3,4,5,...| 960000.0|1354495.8359083165|\n",
      "|(22,[0,1,2,3,4,5,...|1580000.0|1790244.7808445513|\n",
      "+--------------------+---------+------------------+\n",
      "only showing top 5 rows\n",
      "\n"
     ]
    }
   ],
   "source": [
    "# Using the rfr model to predict the label in the test dataset\n",
    "predictions_rfr_test = rfr_model.transform(test)"
   ]
  },
  {
   "cell_type": "code",
   "execution_count": 119,
   "metadata": {},
   "outputs": [
    {
     "name": "stdout",
     "output_type": "stream",
     "text": [
      "Random Forest Regression\n",
      "==============================\n",
      "Dados de Treino\n",
      "==============================\n",
      "R²: 0.809518\n",
      "RMSE: 641647.372493\n",
      "\n",
      "==============================\n",
      "Dados de Teste\n",
      "==============================\n",
      "R²: 0.794427\n",
      "RMSE: 666141.667946\n"
     ]
    }
   ],
   "source": [
    "print('Random Forest Regression')\n",
    "print(\"=\"*30)\n",
    "print(\"Dados de Treino\")\n",
    "print(\"=\"*30)\n",
    "print(\"R²: %f\" % evaluator.evaluate(predictions_rfr_train, {evaluator.metricName: \"r2\"}))\n",
    "print(\"RMSE: %f\" % evaluator.evaluate(predictions_rfr_train, {evaluator.metricName: \"rmse\"}))\n",
    "print(\"\")\n",
    "print(\"=\"*30)\n",
    "print(\"Dados de Teste\")\n",
    "print(\"=\"*30)\n",
    "print(\"R²: %f\" % evaluator.evaluate(predictions_rfr_test, {evaluator.metricName: \"r2\"}))\n",
    "print(\"RMSE: %f\" % evaluator.evaluate(predictions_rfr_test, {evaluator.metricName: \"rmse\"}))"
   ]
  },
  {
   "attachments": {},
   "cell_type": "markdown",
   "metadata": {},
   "source": [
    "### **Gradient-boosted tree Regressor**"
   ]
  },
  {
   "cell_type": "markdown",
   "metadata": {},
   "source": [
    "#### *Creating and Training the Model*"
   ]
  },
  {
   "cell_type": "code",
   "execution_count": 133,
   "metadata": {},
   "outputs": [],
   "source": [
    "from pyspark.ml.regression import GBTRegressor"
   ]
  },
  {
   "cell_type": "code",
   "execution_count": 139,
   "metadata": {},
   "outputs": [],
   "source": [
    "gbt = GBTRegressor(maxDepth=3, seed=42, leafCol=\"leafId\")"
   ]
  },
  {
   "cell_type": "code",
   "execution_count": 140,
   "metadata": {},
   "outputs": [
    {
     "name": "stdout",
     "output_type": "stream",
     "text": [
      "+--------------------+---------+------------------+--------------------+\n",
      "|            features|    label|        prediction|              leafId|\n",
      "+--------------------+---------+------------------+--------------------+\n",
      "|(22,[0,1,2,3,4,5,...|3050000.0| 3747583.297297226|[5.0,3.0,3.0,6.0,...|\n",
      "|(22,[0,1,2,3,4,5,...|1600000.0|2282472.8517849804|[4.0,3.0,3.0,4.0,...|\n",
      "|(22,[0,1,2,3,4,5,...|4500000.0| 4116951.786360097|[5.0,6.0,6.0,5.0,...|\n",
      "|(22,[0,1,2,3,4,5,...|4104228.0|  1698801.32715008|[2.0,5.0,5.0,4.0,...|\n",
      "|(22,[0,1,2,3,4,5,...|1390000.0|1603430.5181170304|[1.0,5.0,6.0,4.0,...|\n",
      "+--------------------+---------+------------------+--------------------+\n",
      "only showing top 5 rows\n",
      "\n"
     ]
    }
   ],
   "source": [
    "gbt_model = gbt.fit(train)\n",
    "\n",
    "predictions_gbt_train = gbt_model.transform(train)\n",
    "\n",
    "predictions_gbt_train.show(5)"
   ]
  },
  {
   "cell_type": "markdown",
   "metadata": {},
   "source": [
    "#### *Calculating Metrics to evaluate the model*"
   ]
  },
  {
   "cell_type": "code",
   "execution_count": 141,
   "metadata": {},
   "outputs": [],
   "source": [
    "predictions_gbt_test = gbt_model.transform(test)"
   ]
  },
  {
   "cell_type": "code",
   "execution_count": 142,
   "metadata": {},
   "outputs": [
    {
     "name": "stdout",
     "output_type": "stream",
     "text": [
      "Random Forest Regression\n",
      "==============================\n",
      "Dados de Treino\n",
      "==============================\n",
      "R²: 0.777865\n",
      "RMSE: 692910.271774\n",
      "\n",
      "==============================\n",
      "Dados de Teste\n",
      "==============================\n",
      "R²: 0.769865\n",
      "RMSE: 704815.577721\n"
     ]
    }
   ],
   "source": [
    "print('Random Forest Regression')\n",
    "print(\"=\"*30)\n",
    "print(\"Dados de Treino\")\n",
    "print(\"=\"*30)\n",
    "print(\"R²: %f\" % evaluator.evaluate(predictions_gbt_train, {evaluator.metricName: \"r2\"}))\n",
    "print(\"RMSE: %f\" % evaluator.evaluate(predictions_gbt_train, {evaluator.metricName: \"rmse\"}))\n",
    "print(\"\")\n",
    "print(\"=\"*30)\n",
    "print(\"Dados de Teste\")\n",
    "print(\"=\"*30)\n",
    "print(\"R²: %f\" % evaluator.evaluate(predictions_gbt_test, {evaluator.metricName: \"r2\"}))\n",
    "print(\"RMSE: %f\" % evaluator.evaluate(predictions_gbt_test, {evaluator.metricName: \"rmse\"}))"
   ]
  },
  {
   "attachments": {},
   "cell_type": "markdown",
   "metadata": {},
   "source": [
    "## **Optimizing the best model**\n",
    "\n",
    "As we can see the model that had the best results was the Random Forest (as expected). Now we are going to use some techniques such as, cross validation and hyperparameters testing to increase our model's metrics."
   ]
  },
  {
   "cell_type": "code",
   "execution_count": 121,
   "metadata": {},
   "outputs": [],
   "source": [
    "from pyspark.ml.regression import RandomForestRegressor\n",
    "from pyspark.ml.tuning import CrossValidator, ParamGridBuilder\n",
    "from pyspark.ml.evaluation import RegressionEvaluator"
   ]
  },
  {
   "cell_type": "code",
   "execution_count": 123,
   "metadata": {},
   "outputs": [],
   "source": [
    "rfr = RandomForestRegressor()\n",
    "evaluator = RegressionEvaluator()"
   ]
  },
  {
   "cell_type": "code",
   "execution_count": 128,
   "metadata": {},
   "outputs": [],
   "source": [
    "# Creating our sample space for testing hyperparameters\n",
    "grid = ParamGridBuilder() \\\n",
    "    .addGrid(rfr.numTrees, [10, 20, 30]) \\\n",
    "    .addGrid(rfr.maxDepth, [5, 10]) \\\n",
    "    .addGrid(rfr.maxBins, [10, 32, 45]) \\\n",
    "    .build()"
   ]
  },
  {
   "cell_type": "code",
   "execution_count": 129,
   "metadata": {},
   "outputs": [],
   "source": [
    "rfr_cv = CrossValidator(\n",
    "    estimator=rfr, # The model\n",
    "    estimatorParamMaps=grid, # Our grid containing the hyperparameters\n",
    "    evaluator=evaluator, # Evaluating method\n",
    "    numFolds=5 # the number of folds to use in cross-validation\n",
    ")"
   ]
  },
  {
   "cell_type": "code",
   "execution_count": 130,
   "metadata": {},
   "outputs": [],
   "source": [
    "rfr_cv_model = rfr_cv.fit(train)"
   ]
  },
  {
   "cell_type": "code",
   "execution_count": 131,
   "metadata": {},
   "outputs": [],
   "source": [
    "predictions_rfr_csv_test = rfr_cv_model.transform(test)"
   ]
  },
  {
   "cell_type": "code",
   "execution_count": 132,
   "metadata": {},
   "outputs": [
    {
     "name": "stdout",
     "output_type": "stream",
     "text": [
      "Random Forest Regression\n",
      "==============================\n",
      "Sem Cross Validation\n",
      "==============================\n",
      "R²: 0.794427\n",
      "RMSE: 666141.667946\n",
      "\n",
      "==============================\n",
      "Com Cross Validation\n",
      "==============================\n",
      "R²: 0.831222\n",
      "RMSE: 603589.233296\n"
     ]
    }
   ],
   "source": [
    "print('Random Forest Regression')\n",
    "print(\"=\"*30)\n",
    "print(\"Sem Cross Validation\")\n",
    "print(\"=\"*30)\n",
    "print(\"R²: %f\" % evaluator.evaluate(predictions_rfr_test, {evaluator.metricName: \"r2\"}))\n",
    "print(\"RMSE: %f\" % evaluator.evaluate(predictions_rfr_test, {evaluator.metricName: \"rmse\"}))\n",
    "print(\"\")\n",
    "print(\"=\"*30)\n",
    "print(\"Com Cross Validation\")\n",
    "print(\"=\"*30)\n",
    "print(\"R²: %f\" % evaluator.evaluate(predictions_rfr_csv_test, {evaluator.metricName: \"r2\"}))\n",
    "print(\"RMSE: %f\" % evaluator.evaluate(predictions_rfr_csv_test, {evaluator.metricName: \"rmse\"}))"
   ]
  },
  {
   "attachments": {},
   "cell_type": "markdown",
   "metadata": {},
   "source": [
    "We can see that we were able to improve our model R2 metric in almost **0.04**, after we applied cross validation and hyperparameters testing in the Random Forest Regressor."
   ]
  }
 ],
 "metadata": {
  "kernelspec": {
   "display_name": "base",
   "language": "python",
   "name": "python3"
  },
  "language_info": {
   "codemirror_mode": {
    "name": "ipython",
    "version": 3
   },
   "file_extension": ".py",
   "mimetype": "text/x-python",
   "name": "python",
   "nbconvert_exporter": "python",
   "pygments_lexer": "ipython3",
   "version": "3.9.12"
  },
  "orig_nbformat": 4,
  "vscode": {
   "interpreter": {
    "hash": "d8ec4a234a3048a765173e7b64119a8d1a8e4ce4548f9a2d0fe97ce15d6f4926"
   }
  }
 },
 "nbformat": 4,
 "nbformat_minor": 2
}
